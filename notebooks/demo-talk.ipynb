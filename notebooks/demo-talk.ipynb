{
 "cells": [
  {
   "cell_type": "markdown",
   "metadata": {
    "slideshow": {
     "slide_type": "slide"
    }
   },
   "source": [
    "# How to publish Jupyter notebook?\n",
    "\n",
    "This short example is based on the Software Carpentry lesson \"Programming with Python\"\n",
    "(<http://swcarpentry.github.io/python-novice-inflammation/>)."
   ]
  },
  {
   "cell_type": "markdown",
   "metadata": {
    "slideshow": {
     "slide_type": "slide"
    }
   },
   "source": [
    "First, we import necessary libraries:"
   ]
  },
  {
   "cell_type": "code",
   "execution_count": 1,
   "metadata": {
    "slideshow": {
     "slide_type": "fragment"
    }
   },
   "outputs": [],
   "source": [
    "import sys\n",
    "import numpy\n",
    "import matplotlib.pyplot"
   ]
  },
  {
   "cell_type": "markdown",
   "metadata": {
    "slideshow": {
     "slide_type": "slide"
    }
   },
   "source": [
    "We also import our own code from the `code` directory"
   ]
  },
  {
   "cell_type": "code",
   "execution_count": 2,
   "metadata": {
    "slideshow": {
     "slide_type": "fragment"
    }
   },
   "outputs": [],
   "source": [
    "sys.path.append('../code')\n",
    "from analysis import row_means"
   ]
  },
  {
   "cell_type": "markdown",
   "metadata": {
    "slideshow": {
     "slide_type": "slide"
    }
   },
   "source": [
    "Next, we use a magic directive to ensure that matplotlib images will appear in the notebook when `show()` is called:"
   ]
  },
  {
   "cell_type": "code",
   "execution_count": 3,
   "metadata": {
    "slideshow": {
     "slide_type": "fragment"
    }
   },
   "outputs": [],
   "source": [
    "%matplotlib inline"
   ]
  },
  {
   "cell_type": "markdown",
   "metadata": {
    "slideshow": {
     "slide_type": "slide"
    }
   },
   "source": [
    "Next, we load patient data. The rows correspond to individual patients, and the columns are their daily inflammation measurements."
   ]
  },
  {
   "cell_type": "code",
   "execution_count": 4,
   "metadata": {
    "slideshow": {
     "slide_type": "fragment"
    }
   },
   "outputs": [],
   "source": [
    "data = numpy.loadtxt(fname='../data/inflammation-01.csv', delimiter=',')"
   ]
  },
  {
   "cell_type": "code",
   "execution_count": 5,
   "metadata": {
    "slideshow": {
     "slide_type": "fragment"
    }
   },
   "outputs": [
    {
     "name": "stdout",
     "output_type": "stream",
     "text": [
      "[[0. 0. 1. ... 3. 0. 0.]\n",
      " [0. 1. 2. ... 1. 0. 1.]\n",
      " [0. 1. 1. ... 2. 1. 1.]\n",
      " ...\n",
      " [0. 1. 1. ... 1. 1. 1.]\n",
      " [0. 0. 0. ... 0. 2. 0.]\n",
      " [0. 0. 1. ... 1. 1. 0.]]\n"
     ]
    }
   ],
   "source": [
    "print(data)"
   ]
  },
  {
   "cell_type": "markdown",
   "metadata": {
    "slideshow": {
     "slide_type": "slide"
    }
   },
   "source": [
    "We demonstrate ability to use `row_means` defined in the `code/analysis` file:"
   ]
  },
  {
   "cell_type": "code",
   "execution_count": 6,
   "metadata": {
    "slideshow": {
     "slide_type": "fragment"
    }
   },
   "outputs": [
    {
     "name": "stdout",
     "output_type": "stream",
     "text": [
      "5.45\n",
      "5.425\n",
      "6.1\n",
      "5.9\n",
      "5.55\n",
      "6.225\n",
      "5.975\n",
      "6.65\n",
      "6.625\n",
      "6.525\n",
      "6.775\n",
      "5.8\n",
      "6.225\n",
      "5.75\n",
      "5.225\n",
      "6.3\n",
      "6.55\n",
      "5.7\n",
      "5.85\n",
      "6.55\n",
      "5.775\n",
      "5.825\n",
      "6.175\n",
      "6.1\n",
      "5.8\n",
      "6.425\n",
      "6.05\n",
      "6.025\n",
      "6.175\n",
      "6.55\n",
      "6.175\n",
      "6.35\n",
      "6.725\n",
      "6.125\n",
      "7.075\n",
      "5.725\n",
      "5.925\n",
      "6.15\n",
      "6.075\n",
      "5.75\n",
      "5.975\n",
      "5.725\n",
      "6.3\n",
      "5.9\n",
      "6.75\n",
      "5.925\n",
      "7.225\n",
      "6.15\n",
      "5.95\n",
      "6.275\n",
      "5.7\n",
      "6.1\n",
      "6.825\n",
      "5.975\n",
      "6.725\n",
      "5.7\n",
      "6.25\n",
      "6.4\n",
      "7.05\n",
      "5.9\n"
     ]
    }
   ],
   "source": [
    "row_means(\"../data/inflammation-01.csv\")"
   ]
  },
  {
   "cell_type": "markdown",
   "metadata": {
    "slideshow": {
     "slide_type": "slide"
    }
   },
   "source": [
    "Finally, we display a heatmap of the data."
   ]
  },
  {
   "cell_type": "code",
   "execution_count": 7,
   "metadata": {
    "slideshow": {
     "slide_type": "fragment"
    }
   },
   "outputs": [
    {
     "data": {
      "image/png": "[encoded data removed]",
      "text/plain": [
       "<Figure size 432x288 with 1 Axes>"
      ]
     },
     "metadata": {
      "needs_background": "light"
     },
     "output_type": "display_data"
    }
   ],
   "source": [
    "image = matplotlib.pyplot.imshow(data)\n",
    "matplotlib.pyplot.show()"
   ]
  }
 ],
 "metadata": {
  "celltoolbar": "Slideshow",
  "kernelspec": {
   "display_name": "Python 3",
   "language": "python",
   "name": "python3"
  },
  "language_info": {
   "codemirror_mode": {
    "name": "ipython",
    "version": 3
   },
   "file_extension": ".py",
   "mimetype": "text/x-python",
   "name": "python",
   "nbconvert_exporter": "python",
   "pygments_lexer": "ipython3",
   "version": "3.8.0"
  }
 },
 "nbformat": 4,
 "nbformat_minor": 2
}
